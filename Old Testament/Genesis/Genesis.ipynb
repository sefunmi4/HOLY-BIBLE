{
 "cells": [
  {
   "cell_type": "markdown",
   "id": "59e70f09",
   "metadata": {},
   "source": [
    "#### The Beginning"
   ]
  },
  {
   "cell_type": "code",
   "execution_count": null,
   "id": "fe32f06a",
   "metadata": {},
   "outputs": [],
   "source": [
    "\"\"\"\n",
    "A full-stack book experience of Genesis\n",
    "\n",
    "Database \n",
    "\n",
    "1.1 - In the beginning, God created the heavens and the earth. \n",
    "1.2 - Now the earth was formless and empty, darkness was over the surface of the deep, and the Spirit of God was hovering over the waters.  \n",
    "\n",
    "\n",
    "Server \n",
    "\n",
    "1.1 - “In the beginning, God created the heavens and the earth.”\n",
    "Heavens = THE_ACTIONS_OF_GOD.heavens()\n",
    "Earth = THE_ACTIONS_OF_GOD.planet()\n",
    "1.2 - “Now the earth was formless and empty, darkness was over the surface of the deep, and the Spirit of God was hovering over the waters.“ \n",
    "Earth.set_adjectives(form = null, matter =null).\n",
    "surface_of_the_deep = Earth.set_surface(type = deep)\n",
    "darkness = THE_ACTIONS_OF_GOD.darkness()\n",
    "darkness.over(Surface_of_the_deep)\n",
    "waters = Earth.get_waters()\n",
    "THE_SPIRIT_OF_GOD.hover(waters)\n",
    "\n",
    "Web \n",
    "\n",
    "\n",
    "1.1 - “In the beginning, God created the heavens and the earth.”\n",
    "Visual of the observable universe and then focus on the earth.\n",
    "1.2 - “Now the earth was formless and empty, darkness was over the surface of the deep, and the Spirit of God was hovering over the waters.“ \n",
    "Show the earth with a formless and empty shape\n",
    "Then show darkness over the surface of the deep\n",
    "Then show the Spirit of God hovering over the water\n",
    "1.3 - \n",
    "\n",
    "\"\"\""
   ]
  },
  {
   "cell_type": "code",
   "execution_count": null,
   "id": "1b7f5b38",
   "metadata": {},
   "outputs": [],
   "source": [
    "# Database \n",
    "\n",
    "#1.1 - In the beginning, God created the heavens and the earth. \n",
    "#1.2 - Now the earth was formless and empty, darkness was over the surface of the deep, and the Spirit of God was hovering over the waters.  \n",
    "\n",
    "#1.3 - "
   ]
  },
  {
   "cell_type": "code",
   "execution_count": null,
   "id": "070855e6",
   "metadata": {},
   "outputs": [],
   "source": [
    "# Server\n",
    "\n",
    "#1.1 - “In the beginning, God created the heavens and the earth.”\n",
    "Heavens = THE_ACTIONS_OF_GOD.heavens()\n",
    "Earth = THE_ACTIONS_OF_GOD.planet()\n",
    "#1.2 - “Now the earth was formless and empty, darkness was over the surface of the deep, and the Spirit of God was hovering over the waters.“ \n",
    "Earth.set_adjectives(form = null, matter =null).\n",
    "surface_of_the_deep = Earth.set_surface(type = deep)\n",
    "darkness = THE_ACTIONS_OF_GOD.darkness()\n",
    "darkness.over(Surface_of_the_deep)\n",
    "waters = Earth.get_waters()\n",
    "THE_SPIRIT_OF_GOD.hover(waters)"
   ]
  },
  {
   "cell_type": "code",
   "execution_count": null,
   "id": "a4a29a04",
   "metadata": {},
   "outputs": [],
   "source": [
    "# Web "
   ]
  }
 ],
 "metadata": {
  "language_info": {
   "name": "python"
  }
 },
 "nbformat": 4,
 "nbformat_minor": 5
}
