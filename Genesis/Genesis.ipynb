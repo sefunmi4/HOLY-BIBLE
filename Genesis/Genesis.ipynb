{
 "cells": [
  {
   "cell_type": "markdown",
   "id": "59e70f09",
   "metadata": {},
   "source": [
    "#### The Beginning"
   ]
  },
  {
   "cell_type": "code",
   "execution_count": null,
   "id": "4f029055",
   "metadata": {
    "vscode": {
     "languageId": "plaintext"
    }
   },
   "outputs": [],
   "source": []
  }
 ],
 "metadata": {
  "language_info": {
   "name": "python"
  }
 },
 "nbformat": 4,
 "nbformat_minor": 5
}
