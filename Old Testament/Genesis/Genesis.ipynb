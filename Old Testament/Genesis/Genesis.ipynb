{
 "cells": [
  {
   "cell_type": "markdown",
   "id": "59e70f09",
   "metadata": {},
   "source": [
    "#### The Beginning"
   ]
  },
  {
   "cell_type": "code",
   "execution_count": null,
   "id": "fe32f06a",
   "metadata": {},
   "outputs": [],
   "source": [
    "\"\"\"\n",
    "A full-stack book experience of Genesis\n",
    "\n",
    "Database \n",
    "\n",
    "Server \n",
    "\n",
    "Web \n",
    "\"\"\""
   ]
  },
  {
   "cell_type": "code",
   "execution_count": null,
   "id": "070855e6",
   "metadata": {},
   "outputs": [],
   "source": [
    "# Database \n",
    "#1.1 - In the beginning, God created the heavens and the earth. \n",
    "#1.2 - Now the earth was formless and empty, darkness was over the surface of the deep, and the Spirit of God was hovering over the waters.  \n",
    "\n",
    "# Server\n",
    "#1.1 - “In the beginning, God created the heavens and the earth.”\n",
    "Heavens = THE_ACTIONS_OF_GOD.heavens()\n",
    "Earth = THE_ACTIONS_OF_GOD.planet()\n",
    "#1.2 - “Now the earth was formless and empty, darkness was over the surface of the deep, and the Spirit of God was hovering over the waters.“ \n",
    "Earth.set_adjectives(form = null, matter =null).\n",
    "surface_of_the_deep = Earth.set_surface(type = deep)\n",
    "darkness = THE_ACTIONS_OF_GOD.darkness()\n",
    "darkness.over(Surface_of_the_deep)\n",
    "waters = Earth.get_waters()\n",
    "THE_SPIRIT_OF_GOD.hover(waters)\n",
    "\n",
    "# Web \n",
    "#1.1 - “In the beginning, God created the heavens and the earth.”\n",
    "# Visual of the observable universe and then focus on the earth.\n",
    "#1.2 - “Now the earth was formless and empty, darkness was over the surface of the deep, and the Spirit of God was hovering over the waters.“ \n",
    "# Show the earth with a formless and empty shape\n",
    "# Then show darkness over the surface of the deep\n",
    "# Then show the Spirit of God hovering over the water"
   ]
  },
  {
   "cell_type": "code",
   "execution_count": null,
   "id": "a4a29a04",
   "metadata": {},
   "outputs": [],
   "source": [
    "# Database \n",
    "#1.3 - And God said, \"Let there be light,\" and there was light. \n",
    "#1.4 - God saw that the light was good, and he separated the light from the darkness. \n",
    "#1.5 - God called the light \"day,\" and the darkness he called \"night.\" And there was evening, and there was morning - the first day.\n",
    " \n",
    "# Server\n",
    "#1.3 - And God said, \"Let there be light,\" and there was light. \n",
    "light = THE_ACTIONS_OF_GOD.said(\"Let there be light,\")\n",
    "#1.4 - TODO: God saw that the light was good, and he separated the light from the darkness\n",
    "good = THE_ACTIONS_OF_GOD.saw(light)  \n",
    "light, darkness = THE_ACTIONS_OF_GOD.separate(\"light\", darkness)    . \n",
    "#1.5 - God called the light \"day,\" and the darkness he called \"night.\" And there was evening, and there was morning - the first day.\n",
    "GODS_DICTIONARY = {\"day,\":light, \"night.\":darkness}\n",
    "evening = time[GODS_DICTIONARY[\"day,\"] : GODS_DICTIONARY[\"night.\"]]\n",
    "morning = time[GODS_DICTIONARY[\"night.\"] : GODS_DICTIONARY[\"day,\"]]\n",
    "the_first_day = time[evening : morning]\n",
    "\n",
    "# Web \n",
    "#1.3 - And God said, \"Let there be light,\" and there was light. \n",
    "#1.4 - God saw that the light was good, and he separated the light from the darkness. \n",
    "#1.5 - God called the light \"day,\" and the darkness he called \"night.\" And there was evening, and there was morning - the first day."
   ]
  },
  {
   "cell_type": "code",
   "execution_count": null,
   "id": "ab55aa99",
   "metadata": {},
   "outputs": [],
   "source": [
    "# Database \n",
    "#1.6 - And God said, \"Let there be a vault between the waters to separate water from water\"\n",
    "#1.7 - So God made the vault and separated the water under the vault from the water above it. And it was so.\n",
    "#1.8 - God called the vault \"sky.\" And there was evening, and there was morning - the second day.\n",
    " \n",
    "# Server\n",
    "#1.6 - And God said, \"Let there be a vault between the waters to separate water from water\"\n",
    "\n",
    "# Web Display\n",
    "#1.6 - And God said, \"Let there be a vault between the waters to separate water from water\"\n",
    "#1.7 - So God made the vault and separated the water under the vault from the water above it. And it was so.\n",
    "#1.8 - God called the vault \"sky.\" And there was evening, and there was morning - the second day."
   ]
  },
  {
   "cell_type": "code",
   "execution_count": null,
   "id": "dc3eb351",
   "metadata": {},
   "outputs": [],
   "source": [
    "#1.9 - And God said, \"Let the water under the sky be gathered to one place, and let the dry ground appaer.\" And it was as"
   ]
  }
 ],
 "metadata": {
  "language_info": {
   "name": "python"
  }
 },
 "nbformat": 4,
 "nbformat_minor": 5
}
